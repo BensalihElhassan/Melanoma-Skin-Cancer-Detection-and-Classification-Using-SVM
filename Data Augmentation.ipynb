{
 "cells": [
  {
   "cell_type": "markdown",
   "id": "a7c9650d-e7cd-4979-bc87-28eab95d6423",
   "metadata": {},
   "source": [
    "\n",
    "# ---------------------------\n",
    "# Data Augmentation\n",
    "# ---------------------------"
   ]
  },
  {
   "cell_type": "code",
   "execution_count": null,
   "id": "4972faba-ac35-4134-9562-dea6a587f4bd",
   "metadata": {},
   "outputs": [],
   "source": [
    "\n",
    "import os  \n",
    "import cv2  \n",
    "from keras.preprocessing.image import ImageDataGenerator  # For data augmentation\n",
    "\n",
    "# Define input and output directories\n",
    "input_dir = r'C:\\Users\\elhas\\ML Project\\DataSet\\Malignant'  \n",
    "augmented_dir = r'C:\\Users\\elhas\\ML Project\\DataSet\\train_augmented'  \n",
    "os.makedirs(augmented_dir, exist_ok=True)  # Create output directory if it doesn't exist\n",
    "\n",
    "# Create an image data generator with specified transformations\n",
    "datagen = ImageDataGenerator(\n",
    "    rotation_range=30,       # Random rotation between 0 and 30 degrees\n",
    "    width_shift_range=0.1,   # Horizontal shift by up to 10%\n",
    "    height_shift_range=0.1,  # Vertical shift by up to 10%\n",
    "    shear_range=0.2,         # Random shear transformation\n",
    "    zoom_range=0.2,          # Random zoom between 80% and 120%\n",
    "    horizontal_flip=True,    # Enable horizontal flipping\n",
    "    vertical_flip=False,     # Disable vertical flipping (not needed for medical images)\n",
    "    fill_mode='nearest'      # Fill missing pixels after transformations\n",
    ")\n",
    "\n",
    "# Function to generate and save augmented images\n",
    "def augment_images(input_dir, output_dir, augmentations=30):\n",
    "    # Walk through the input directory\n",
    "    for subdir, _, files in os.walk(input_dir):\n",
    "        label = os.path.basename(subdir)  # Get the label from the subdirectory name\n",
    "        label_dir = os.path.join(output_dir, label)  # Create output directory for this label\n",
    "        os.makedirs(label_dir, exist_ok=True)  # Create the label directory if it doesn't exist\n",
    "\n",
    "        # Iterate through each file in the directory\n",
    "        for filename in files:\n",
    "            img_path = os.path.join(subdir, filename)  # Full path of the image\n",
    "            img = cv2.imread(img_path)  # Read the image\n",
    "            img = cv2.cvtColor(img, cv2.COLOR_BGR2RGB)  # Convert the image to RGB format for Keras\n",
    "\n",
    "            # Resize the image if necessary (e.g., to 128x128 pixels)\n",
    "            img_resized = cv2.resize(img, (128, 128))\n",
    "\n",
    "            # Reshape the image to match the input format expected by the generator\n",
    "            img_resized = img_resized.reshape((1,) + img_resized.shape)\n",
    "\n",
    "            # Generate multiple augmented images\n",
    "            i = 0  # Initialize a counter for augmented images\n",
    "            for batch in datagen.flow(img_resized, batch_size=1,\n",
    "                                      save_to_dir=label_dir,  # Directory to save augmented images\n",
    "                                      save_prefix='aug',       # Prefix for saved image files\n",
    "                                      save_format='jpeg'):     # Save format\n",
    "                i += 1  # Increment counter\n",
    "                if i >= augmentations:  # Limit the number of augmented images to 'augmentations'\n",
    "                    break\n",
    "\n",
    "\n",
    "augment_images(input_dir, augmented_dir) \n",
    "print(\"Data augmentation complete and images saved.\") \n",
    "\n"
   ]
  },
  {
   "cell_type": "code",
   "execution_count": null,
   "id": "5e30b9ad-108a-4c86-9637-d0945c12c37a",
   "metadata": {},
   "outputs": [],
   "source": []
  },
  {
   "cell_type": "code",
   "execution_count": null,
   "id": "a5f64434-7b7d-4e9b-b269-2b0d4f0aad42",
   "metadata": {},
   "outputs": [],
   "source": []
  },
  {
   "cell_type": "code",
   "execution_count": null,
   "id": "d56c817d-f4af-4c03-bd36-75c5fa840710",
   "metadata": {},
   "outputs": [],
   "source": []
  },
  {
   "cell_type": "code",
   "execution_count": null,
   "id": "77c67c72-ef4f-4ddd-b5c3-d083d900974b",
   "metadata": {},
   "outputs": [],
   "source": []
  },
  {
   "cell_type": "code",
   "execution_count": null,
   "id": "c6b824ff-4b28-46e5-a079-3b27dcf96927",
   "metadata": {},
   "outputs": [],
   "source": []
  },
  {
   "cell_type": "code",
   "execution_count": null,
   "id": "ee4484c8-75d3-4133-80f0-82ea0f7dd946",
   "metadata": {},
   "outputs": [],
   "source": []
  },
  {
   "cell_type": "code",
   "execution_count": null,
   "id": "52489a79-fb9f-4566-be50-8009dbbd564e",
   "metadata": {},
   "outputs": [],
   "source": []
  },
  {
   "cell_type": "code",
   "execution_count": null,
   "id": "01175004-d8dd-4a37-8936-ca7ba7428e68",
   "metadata": {},
   "outputs": [],
   "source": []
  },
  {
   "cell_type": "code",
   "execution_count": null,
   "id": "991142f9-7d6d-45ca-a92e-20480d231acd",
   "metadata": {},
   "outputs": [],
   "source": []
  }
 ],
 "metadata": {
  "kernelspec": {
   "display_name": "Python 3 (ipykernel)",
   "language": "python",
   "name": "python3"
  },
  "language_info": {
   "codemirror_mode": {
    "name": "ipython",
    "version": 3
   },
   "file_extension": ".py",
   "mimetype": "text/x-python",
   "name": "python",
   "nbconvert_exporter": "python",
   "pygments_lexer": "ipython3",
   "version": "3.12.7"
  }
 },
 "nbformat": 4,
 "nbformat_minor": 5
}
